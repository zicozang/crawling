{
 "cells": [
  {
   "cell_type": "code",
   "execution_count": 1,
   "metadata": {},
   "outputs": [],
   "source": [
    "import pandas as pd"
   ]
  },
  {
   "cell_type": "code",
   "execution_count": 2,
   "metadata": {},
   "outputs": [],
   "source": [
    "from bs4 import BeautifulSoup as bs\n",
    "from selenium import webdriver"
   ]
  },
  {
   "cell_type": "code",
   "execution_count": 3,
   "metadata": {},
   "outputs": [],
   "source": [
    "browser = webdriver.Chrome('chromedriver')\n",
    "# 암묵적으로 웹 자원 로드를 위해 3초까지 기다려 준다.\n",
    "browser.implicitly_wait(3)"
   ]
  },
  {
   "cell_type": "code",
   "execution_count": 70,
   "metadata": {},
   "outputs": [],
   "source": [
    "sdate = '2020-01-19'\n",
    "edate = '2021-01-26'\n",
    "search_text = '011070'"
   ]
  },
  {
   "cell_type": "code",
   "execution_count": 71,
   "metadata": {},
   "outputs": [
    {
     "name": "stdout",
     "output_type": "stream",
     "text": [
      "7\n"
     ]
    }
   ],
   "source": [
    "# getting last page number\n",
    "url = f\"http://consensus.hankyung.com/apps.analysis/analysis.list?sdate={sdate}&edate={edate}&now_page=1&search_value=&report_type=CO&pagenum=20&search_text={search_text}&business_code=\"\n",
    "browser.get(url)\n",
    "resultHtml = bs(browser.page_source, 'html.parser')\n",
    "btn_last = resultHtml.find(class_='btn last')['href']\n",
    "last = btn_last.split('page=')[1]\n",
    "print(last)"
   ]
  },
  {
   "cell_type": "code",
   "execution_count": 72,
   "metadata": {},
   "outputs": [
    {
     "name": "stdout",
     "output_type": "stream",
     "text": [
      "http://consensus.hankyung.com/apps.analysis/analysis.list?sdate=2020-01-19&edate=2021-01-26&now_page=1&search_value=&report_type=CO&pagenum=20&search_text=011070&business_code=\n",
      "http://consensus.hankyung.com/apps.analysis/analysis.list?sdate=2020-01-19&edate=2021-01-26&now_page=2&search_value=&report_type=CO&pagenum=20&search_text=011070&business_code=\n",
      "http://consensus.hankyung.com/apps.analysis/analysis.list?sdate=2020-01-19&edate=2021-01-26&now_page=3&search_value=&report_type=CO&pagenum=20&search_text=011070&business_code=\n",
      "http://consensus.hankyung.com/apps.analysis/analysis.list?sdate=2020-01-19&edate=2021-01-26&now_page=4&search_value=&report_type=CO&pagenum=20&search_text=011070&business_code=\n",
      "http://consensus.hankyung.com/apps.analysis/analysis.list?sdate=2020-01-19&edate=2021-01-26&now_page=5&search_value=&report_type=CO&pagenum=20&search_text=011070&business_code=\n",
      "http://consensus.hankyung.com/apps.analysis/analysis.list?sdate=2020-01-19&edate=2021-01-26&now_page=6&search_value=&report_type=CO&pagenum=20&search_text=011070&business_code=\n",
      "http://consensus.hankyung.com/apps.analysis/analysis.list?sdate=2020-01-19&edate=2021-01-26&now_page=7&search_value=&report_type=CO&pagenum=20&search_text=011070&business_code=\n"
     ]
    }
   ],
   "source": [
    "# 리스트 변수 초기화\n",
    "ymd = []\n",
    "title = []\n",
    "stock_code = []\n",
    "price = []\n",
    "opinion = []\n",
    "\n",
    "# 1 페이지 ~ 마지막 페이지\n",
    "for page in range(1, int(last)+1):\n",
    "    url = f\"http://consensus.hankyung.com/apps.analysis/analysis.list?sdate={sdate}&edate={edate}&now_page={page}&search_value=&report_type=CO&pagenum=20&search_text={search_text}&business_code=\"\n",
    "    print(url)\n",
    "    browser.get(url)\n",
    "    resultHtml = bs(browser.page_source, 'html.parser')\n",
    "    tbody = resultHtml.find('tbody')\n",
    "    trs = tbody.findAll('tr')\n",
    "    for tr in trs:\n",
    "        ymd.append(tr.find(class_='first txt_number').text)\n",
    "        anchor = tr.find('a').text\n",
    "        title.append(anchor)\n",
    "        idx = anchor.find('(')\n",
    "        stock_code.append(anchor[idx+1:idx+7])\n",
    "        price.append(tr.find(class_='text_r txt_number').text)\n",
    "        tds = tr.findAll('td')\n",
    "        opinion.append(tds[3].text.strip())"
   ]
  },
  {
   "cell_type": "code",
   "execution_count": 73,
   "metadata": {},
   "outputs": [
    {
     "data": {
      "text/html": [
       "<div>\n",
       "<style scoped>\n",
       "    .dataframe tbody tr th:only-of-type {\n",
       "        vertical-align: middle;\n",
       "    }\n",
       "\n",
       "    .dataframe tbody tr th {\n",
       "        vertical-align: top;\n",
       "    }\n",
       "\n",
       "    .dataframe thead th {\n",
       "        text-align: right;\n",
       "    }\n",
       "</style>\n",
       "<table border=\"1\" class=\"dataframe\">\n",
       "  <thead>\n",
       "    <tr style=\"text-align: right;\">\n",
       "      <th></th>\n",
       "      <th>작성일</th>\n",
       "      <th>제목</th>\n",
       "      <th>적정가격</th>\n",
       "      <th>투자의견</th>\n",
       "    </tr>\n",
       "  </thead>\n",
       "  <tbody>\n",
       "    <tr>\n",
       "      <th>0</th>\n",
       "      <td>2021-01-26</td>\n",
       "      <td>LG이노텍(011070)수요 호조와 멀티플...</td>\n",
       "      <td>255,000</td>\n",
       "      <td>Buy</td>\n",
       "    </tr>\n",
       "    <tr>\n",
       "      <th>1</th>\n",
       "      <td>2021-01-26</td>\n",
       "      <td>LG이노텍(011070)자율주행 선도 업체...</td>\n",
       "      <td>260,000</td>\n",
       "      <td>Buy</td>\n",
       "    </tr>\n",
       "    <tr>\n",
       "      <th>2</th>\n",
       "      <td>2021-01-26</td>\n",
       "      <td>LG이노텍(011070)전장 사업 확대로 밸...</td>\n",
       "      <td>250,000</td>\n",
       "      <td>Buy</td>\n",
       "    </tr>\n",
       "    <tr>\n",
       "      <th>3</th>\n",
       "      <td>2021-01-26</td>\n",
       "      <td>LG이노텍(011070)계속되는 성장 스토...</td>\n",
       "      <td>250,000</td>\n",
       "      <td>Buy</td>\n",
       "    </tr>\n",
       "    <tr>\n",
       "      <th>4</th>\n",
       "      <td>2021-01-26</td>\n",
       "      <td>LG이노텍(011070)애플의 은밀한 2가지...</td>\n",
       "      <td>250,000</td>\n",
       "      <td>Buy</td>\n",
       "    </tr>\n",
       "    <tr>\n",
       "      <th>...</th>\n",
       "      <td>...</td>\n",
       "      <td>...</td>\n",
       "      <td>...</td>\n",
       "      <td>...</td>\n",
       "    </tr>\n",
       "    <tr>\n",
       "      <th>128</th>\n",
       "      <td>2020-01-30</td>\n",
       "      <td>LG이노텍(011070)예견된 호실적, 지속...</td>\n",
       "      <td>190,000</td>\n",
       "      <td>Buy</td>\n",
       "    </tr>\n",
       "    <tr>\n",
       "      <th>129</th>\n",
       "      <td>2020-01-30</td>\n",
       "      <td>LG이노텍(011070)실적과 멀티플의 동...</td>\n",
       "      <td>190,000</td>\n",
       "      <td>Buy</td>\n",
       "    </tr>\n",
       "    <tr>\n",
       "      <th>130</th>\n",
       "      <td>2020-01-30</td>\n",
       "      <td>LG이노텍(011070)4분기 기대 이상, 상...</td>\n",
       "      <td>185,000</td>\n",
       "      <td>Buy</td>\n",
       "    </tr>\n",
       "    <tr>\n",
       "      <th>131</th>\n",
       "      <td>2020-01-28</td>\n",
       "      <td>LG이노텍(011070)영업이익이 모든 경...</td>\n",
       "      <td>195,000</td>\n",
       "      <td>Buy</td>\n",
       "    </tr>\n",
       "    <tr>\n",
       "      <th>132</th>\n",
       "      <td>2020-01-20</td>\n",
       "      <td>LG이노텍(011070)아직은 걱정할 때가 ...</td>\n",
       "      <td>180,000</td>\n",
       "      <td>Buy</td>\n",
       "    </tr>\n",
       "  </tbody>\n",
       "</table>\n",
       "<p>133 rows × 4 columns</p>\n",
       "</div>"
      ],
      "text/plain": [
       "            작성일                            제목     적정가격 투자의견\n",
       "0    2021-01-26    LG이노텍(011070)수요 호조와 멀티플...  255,000  Buy\n",
       "1    2021-01-26    LG이노텍(011070)자율주행 선도 업체...  260,000  Buy\n",
       "2    2021-01-26   LG이노텍(011070)전장 사업 확대로 밸...  250,000  Buy\n",
       "3    2021-01-26    LG이노텍(011070)계속되는 성장 스토...  250,000  Buy\n",
       "4    2021-01-26   LG이노텍(011070)애플의 은밀한 2가지...  250,000  Buy\n",
       "..          ...                           ...      ...  ...\n",
       "128  2020-01-30   LG이노텍(011070)예견된 호실적, 지속...  190,000  Buy\n",
       "129  2020-01-30    LG이노텍(011070)실적과 멀티플의 동...  190,000  Buy\n",
       "130  2020-01-30  LG이노텍(011070)4분기 기대 이상, 상...  185,000  Buy\n",
       "131  2020-01-28    LG이노텍(011070)영업이익이 모든 경...  195,000  Buy\n",
       "132  2020-01-20   LG이노텍(011070)아직은 걱정할 때가 ...  180,000  Buy\n",
       "\n",
       "[133 rows x 4 columns]"
      ]
     },
     "execution_count": 73,
     "metadata": {},
     "output_type": "execute_result"
    }
   ],
   "source": [
    "dict = {'작성일':ymd, '제목': title, '적정가격': price, '투자의견': opinion}\n",
    "df = pd.DataFrame(dict) \n",
    "df  "
   ]
  },
  {
   "cell_type": "code",
   "execution_count": null,
   "metadata": {},
   "outputs": [],
   "source": []
  },
  {
   "cell_type": "code",
   "execution_count": null,
   "metadata": {},
   "outputs": [],
   "source": []
  }
 ],
 "metadata": {
  "kernelspec": {
   "display_name": "Python 3",
   "language": "python",
   "name": "python3"
  },
  "language_info": {
   "codemirror_mode": {
    "name": "ipython",
    "version": 3
   },
   "file_extension": ".py",
   "mimetype": "text/x-python",
   "name": "python",
   "nbconvert_exporter": "python",
   "pygments_lexer": "ipython3",
   "version": "3.7.4"
  }
 },
 "nbformat": 4,
 "nbformat_minor": 4
}
